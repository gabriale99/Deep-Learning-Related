{
  "cells": [
    {
      "cell_type": "code",
      "execution_count": 1,
      "metadata": {
        "colab": {
          "base_uri": "https://localhost:8080/"
        },
        "id": "YSe6mosnskIT",
        "outputId": "fad3c9eb-8d85-4782-f8a0-bfd8195a2657"
      },
      "outputs": [
        {
          "name": "stdout",
          "output_type": "stream",
          "text": [
            "Requirement already satisfied: openai==0.28 in c:\\users\\midautumnfestival\\.conda\\envs\\255\\lib\\site-packages (0.28.0)\n",
            "Requirement already satisfied: requests>=2.20 in c:\\users\\midautumnfestival\\.conda\\envs\\255\\lib\\site-packages (from openai==0.28) (2.31.0)\n",
            "Requirement already satisfied: tqdm in c:\\users\\midautumnfestival\\.conda\\envs\\255\\lib\\site-packages (from openai==0.28) (4.66.1)\n",
            "Requirement already satisfied: aiohttp in c:\\users\\midautumnfestival\\.conda\\envs\\255\\lib\\site-packages (from openai==0.28) (3.9.1)\n",
            "Requirement already satisfied: charset-normalizer<4,>=2 in c:\\users\\midautumnfestival\\.conda\\envs\\255\\lib\\site-packages (from requests>=2.20->openai==0.28) (3.3.1)\n",
            "Requirement already satisfied: idna<4,>=2.5 in c:\\users\\midautumnfestival\\.conda\\envs\\255\\lib\\site-packages (from requests>=2.20->openai==0.28) (3.4)\n",
            "Requirement already satisfied: urllib3<3,>=1.21.1 in c:\\users\\midautumnfestival\\.conda\\envs\\255\\lib\\site-packages (from requests>=2.20->openai==0.28) (2.0.7)\n",
            "Requirement already satisfied: certifi>=2017.4.17 in c:\\users\\midautumnfestival\\.conda\\envs\\255\\lib\\site-packages (from requests>=2.20->openai==0.28) (2023.7.22)\n",
            "Requirement already satisfied: attrs>=17.3.0 in c:\\users\\midautumnfestival\\.conda\\envs\\255\\lib\\site-packages (from aiohttp->openai==0.28) (23.1.0)\n",
            "Requirement already satisfied: multidict<7.0,>=4.5 in c:\\users\\midautumnfestival\\.conda\\envs\\255\\lib\\site-packages (from aiohttp->openai==0.28) (6.0.4)\n",
            "Requirement already satisfied: yarl<2.0,>=1.0 in c:\\users\\midautumnfestival\\.conda\\envs\\255\\lib\\site-packages (from aiohttp->openai==0.28) (1.9.3)\n",
            "Requirement already satisfied: frozenlist>=1.1.1 in c:\\users\\midautumnfestival\\.conda\\envs\\255\\lib\\site-packages (from aiohttp->openai==0.28) (1.4.0)\n",
            "Requirement already satisfied: aiosignal>=1.1.2 in c:\\users\\midautumnfestival\\.conda\\envs\\255\\lib\\site-packages (from aiohttp->openai==0.28) (1.3.1)\n",
            "Requirement already satisfied: async-timeout<5.0,>=4.0 in c:\\users\\midautumnfestival\\.conda\\envs\\255\\lib\\site-packages (from aiohttp->openai==0.28) (4.0.3)\n",
            "Requirement already satisfied: colorama in c:\\users\\midautumnfestival\\.conda\\envs\\255\\lib\\site-packages (from tqdm->openai==0.28) (0.4.6)\n"
          ]
        }
      ],
      "source": [
        "!pip install openai==0.28"
      ]
    },
    {
      "cell_type": "code",
      "execution_count": 2,
      "metadata": {
        "colab": {
          "base_uri": "https://localhost:8080/"
        },
        "id": "bOXQ5kr2srj5",
        "outputId": "2c0962f6-8321-46aa-f9c1-8e1a79c12542"
      },
      "outputs": [
        {
          "name": "stdout",
          "output_type": "stream",
          "text": [
            "Requirement already satisfied: python-dotenv in c:\\users\\midautumnfestival\\.conda\\envs\\255\\lib\\site-packages (1.0.0)\n"
          ]
        }
      ],
      "source": [
        "!pip install python-dotenv"
      ]
    },
    {
      "cell_type": "code",
      "execution_count": 3,
      "metadata": {
        "id": "u8-FcawdskIU"
      },
      "outputs": [],
      "source": [
        "import os\n",
        "import openai\n",
        "from PyPDF2 import PdfReader\n",
        "from dotenv import load_dotenv, find_dotenv\n",
        "_ = load_dotenv(find_dotenv()) # read local .env file\n",
        "\n",
        "openai.api_key = '<OPENAI API KEY>'"
      ]
    },
    {
      "cell_type": "markdown",
      "metadata": {
        "id": "i-IajAa2skIV"
      },
      "source": [
        "# Write prompts that perform the following task and display the output:"
      ]
    },
    {
      "cell_type": "markdown",
      "metadata": {
        "id": "jTAD0FYrskIV"
      },
      "source": [
        "### Write a chatbot prompt to iteratively create a sequence of chats on one particular topic."
      ]
    },
    {
      "cell_type": "code",
      "execution_count": 4,
      "metadata": {
        "id": "cPfdV3DjskIV"
      },
      "outputs": [],
      "source": [
        "def get_completion(prompt, model=\"gpt-3.5-turbo\"):\n",
        "    messages = [{\"role\": \"user\", \"content\": prompt}]\n",
        "    response = openai.ChatCompletion.create(\n",
        "        model=model,\n",
        "        messages=messages,\n",
        "        temperature=0, # this is the degree of randomness of the model's output\n",
        "    )\n",
        "    return response.choices[0].message[\"content\"]"
      ]
    },
    {
      "cell_type": "code",
      "execution_count": 5,
      "metadata": {
        "id": "d0wu7sFvskIV"
      },
      "outputs": [],
      "source": [
        "def get_completion_from_messages(messages, model=\"gpt-3.5-turbo\", temperature=0):\n",
        "    response = openai.ChatCompletion.create(\n",
        "        model=model,\n",
        "        messages=messages,\n",
        "        temperature=temperature, # this is the degree of randomness of the model's output\n",
        "    )\n",
        "#     print(str(response.choices[0].message))\n",
        "    return response.choices[0].message[\"content\"]"
      ]
    },
    {
      "cell_type": "code",
      "execution_count": 6,
      "metadata": {
        "colab": {
          "base_uri": "https://localhost:8080/",
          "height": 373
        },
        "id": "tb47zVrwskIW",
        "outputId": "2d66c596-a778-472a-f0e3-b244b4169616"
      },
      "outputs": [
        {
          "name": "stdout",
          "output_type": "stream",
          "text": [
            "I'll do my best to help! Please let me know what problems you'd like assistance with, and I'll provide you with the information or guidance that I can.\n"
          ]
        }
      ],
      "source": [
        "messages =  [\n",
        "    {\n",
        "        'role':'system',\n",
        "        'content':'You are a helpful chatbot.'\n",
        "    },\n",
        "    {\n",
        "        'role':'user',\n",
        "        'content':'Can you solve my problems?'\n",
        "    }\n",
        "]\n",
        "\n",
        "response = get_completion_from_messages(messages, temperature=1)\n",
        "print(response)"
      ]
    },
    {
      "cell_type": "markdown",
      "metadata": {
        "id": "qZfbL4KOskIW"
      },
      "source": [
        "##### a. Ask the bot to solve one complex math problem."
      ]
    },
    {
      "cell_type": "code",
      "execution_count": 7,
      "metadata": {
        "id": "BTRrIh4PskIW"
      },
      "outputs": [
        {
          "name": "stdout",
          "output_type": "stream",
          "text": [
            "The correct answer is D) I and II only.\n",
            "\n",
            "Explanation:\n",
            "- Statement I is true because it directly states that a temperature increase of 1 degree Fahrenheit is equivalent to a temperature increase of 5/9 degree Celsius. This is in line with the given equation.\n",
            "- Statement II is also true because it relates to the conversion between Fahrenheit and Celsius. To convert from Celsius to Fahrenheit, you multiply the Celsius value by 1.8 and add 32. Therefore, a temperature increase of 1 degree Celsius is equivalent to a temperature increase of 1.8 degrees Fahrenheit.\n",
            "\n",
            "Statement III is not true because it suggests that a temperature increase of 5/9 degree Fahrenheit is equivalent to a temperature increase of 1 degree Celsius, but the given equation does not support this conversion.\n",
            "\n",
            "Hence, the correct answer is D) I and II only.\n"
          ]
        }
      ],
      "source": [
        "messages1 =  [\n",
        "    {\n",
        "        'role':'system',\n",
        "        'content':'You are a helpful chatbot.'\n",
        "    },\n",
        "    {\n",
        "        'role':'user',\n",
        "        'content':'Can you solve my problems?'\n",
        "    },\n",
        "    {\n",
        "        'role':'assistant',\n",
        "        'content': \"I'll certainly try my best to help you. \\\n",
        "            Please go ahead and let me know what problems you're facing, and I'll do my best to provide assistance or guidance.\"},\n",
        "    {\n",
        "        'role':'user',\n",
        "        'content':'Thank you. Please pick the correct correct answer from the multiple choice question below:\\\n",
        "            C = (5 / 9) * (F - 32)\\\n",
        "            The equation above shows how temperature, measured in degrees Fahrenheit, relates to a temperature F,\\\n",
        "            measured in degrees Celsius. Based on the equation, which of the following must be true?\\\n",
        "            I.  A temperature increase of 1 degree Fahrenheit is equivalent to a temperature increase of 5 / 9 degree Celsius.\\\n",
        "            II. A temperature increase of 1 degree Celsius is equivalent to a temperature increase of 1.8 degrees Fahrenheit.\\\n",
        "            III.A temperature increase of 5/9 degree Fahrenheit is equivalent to a temperature increase of 1 degree Celsius.\\\n",
        "            \\\n",
        "            A) I only\\\n",
        "            B) II only\\\n",
        "            C) III only\\\n",
        "            D) I and II only'\n",
        "    }\n",
        "]\n",
        "\n",
        "response1 = get_completion_from_messages(messages1, temperature=1)\n",
        "print(response1)"
      ]
    },
    {
      "cell_type": "markdown",
      "metadata": {
        "id": "laEBdIDGskIX"
      },
      "source": [
        "##### b. Give a PDF and website document; ask the bot to rewrite and answer questions on the given PDF and website."
      ]
    },
    {
      "cell_type": "code",
      "execution_count": 8,
      "metadata": {},
      "outputs": [],
      "source": [
        "reader = PdfReader(\"Data 240 Group 5 project proposals.pdf\")\n",
        "\n",
        "pdf = ''\n",
        "for p in reader.pages:\n",
        "    pdf += p.extract_text()"
      ]
    },
    {
      "cell_type": "code",
      "execution_count": 9,
      "metadata": {},
      "outputs": [
        {
          "name": "stdout",
          "output_type": "stream",
          "text": [
            "The last person in the member list is Hon Lam Chung. After Bulbasaur evolves, it becomes Ivysaur.\n"
          ]
        }
      ],
      "source": [
        "messages2 =  [\n",
        "    {\n",
        "        'role':'system',\n",
        "        'content':'You are a helpful chatbot.'\n",
        "    },\n",
        "    {\n",
        "        'role':'user',\n",
        "        'content': pdf\n",
        "    },\n",
        "    {\n",
        "        'role':'user',\n",
        "        'content':'https://bulbapedia.bulbagarden.net/wiki/Bulbasaur_(Pok%C3%A9mon).'\n",
        "    },\n",
        "    {\n",
        "        'role':'user',\n",
        "        'content':'Who is the last person in the member list?\\\n",
        "            What is the name of the pokemon after Bulbsaur evolve?'\n",
        "    },\n",
        "]\n",
        "\n",
        "\n",
        "response2 = get_completion_from_messages(messages2, temperature=1)\n",
        "print(response2)"
      ]
    },
    {
      "cell_type": "markdown",
      "metadata": {
        "id": "91bRsGd2skIX"
      },
      "source": [
        "##### c. At the end, ask the bot to summarize your chat."
      ]
    },
    {
      "cell_type": "code",
      "execution_count": 11,
      "metadata": {},
      "outputs": [
        {
          "name": "stdout",
          "output_type": "stream",
          "text": [
            "Certainly! Here's a summary of our conversation so far:\n",
            "\n",
            "- You asked if I could help solve your problems.\n",
            "- You presented a multiple-choice question related to temperature conversions, and I provided the correct answer (D) I and II only).\n",
            "- You shared a group member list and a group project title related to resume updates and recommendations for job seekers.\n",
            "- You provided a link to Bulbapedia for information about Bulbasaur.\n",
            "- You then asked about the last person in the member list and the name of the Pokemon after Bulbasaur evolves.\n",
            "\n",
            "I hope this summary is helpful! Let me know if there's anything else I can assist you with.\n"
          ]
        }
      ],
      "source": [
        "messages1.append({\n",
        "    'role':'assistant',\n",
        "    'content': response1\n",
        "})\n",
        "\n",
        "messages2.append({\n",
        "    'role':'assistant',\n",
        "    'content': response2\n",
        "})\n",
        "\n",
        "messages3 =  messages1 + messages2 + [{\n",
        "    'role':'user',\n",
        "    'content': 'Can you summarize the conversation we had so far?'\n",
        "}]\n",
        "\n",
        "response3 = get_completion_from_messages(messages3, temperature=1)\n",
        "print(response3)"
      ]
    }
  ],
  "metadata": {
    "colab": {
      "provenance": []
    },
    "kernelspec": {
      "display_name": "255",
      "language": "python",
      "name": "python3"
    },
    "language_info": {
      "codemirror_mode": {
        "name": "ipython",
        "version": 3
      },
      "file_extension": ".py",
      "mimetype": "text/x-python",
      "name": "python",
      "nbconvert_exporter": "python",
      "pygments_lexer": "ipython3",
      "version": "3.10.13"
    }
  },
  "nbformat": 4,
  "nbformat_minor": 0
}
