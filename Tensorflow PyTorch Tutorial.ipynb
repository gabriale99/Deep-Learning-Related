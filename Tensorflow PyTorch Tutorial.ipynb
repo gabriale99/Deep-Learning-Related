{
 "cells": [
  {
   "cell_type": "code",
   "execution_count": 33,
   "metadata": {},
   "outputs": [
    {
     "name": "stdout",
     "output_type": "stream",
     "text": [
      "2.12.0\n"
     ]
    }
   ],
   "source": [
    "import tensorflow as tf\n",
    "\n",
    "print(tf.__version__)\n",
    "\n",
    "import torch\n",
    "import torch.nn as nn\n",
    "import torch.optim as optim"
   ]
  },
  {
   "cell_type": "code",
   "execution_count": 34,
   "metadata": {},
   "outputs": [],
   "source": [
    "import pandas as pd\n",
    "\n",
    "pd.set_option('display.width', None)\n",
    "pd.set_option('display.max_rows', None)"
   ]
  },
  {
   "cell_type": "code",
   "execution_count": 35,
   "metadata": {},
   "outputs": [],
   "source": [
    "import numpy as np"
   ]
  },
  {
   "attachments": {},
   "cell_type": "markdown",
   "metadata": {},
   "source": [
    "**Step 1. Import the data from the given .csv file (diabetes.csv). The first few columns contain the data while the last column is a binary class label of 0 or 1**"
   ]
  },
  {
   "cell_type": "code",
   "execution_count": 36,
   "metadata": {},
   "outputs": [
    {
     "name": "stdout",
     "output_type": "stream",
     "text": [
      "          0         1         2         3         4         5         6   \n",
      "0 -0.294118  0.487437  0.180328 -0.292929  0.000000  0.001490 -0.531170  \\\n",
      "1 -0.882353 -0.145729  0.081967 -0.414141  0.000000 -0.207153 -0.766866   \n",
      "2 -0.058824  0.839196  0.049180  0.000000  0.000000 -0.305514 -0.492741   \n",
      "3 -0.882353 -0.105528  0.081967 -0.535354 -0.777778 -0.162444 -0.923997   \n",
      "4  0.000000  0.376884 -0.344262 -0.292929 -0.602837  0.284650  0.887276   \n",
      "\n",
      "          7  8  \n",
      "0 -0.033333  0  \n",
      "1 -0.666667  1  \n",
      "2 -0.633333  0  \n",
      "3  0.000000  1  \n",
      "4 -0.600000  0  \n"
     ]
    }
   ],
   "source": [
    "df = pd.read_csv('diabetes.csv', header=None)\n",
    "\n",
    "print(df.head(5))"
   ]
  },
  {
   "attachments": {},
   "cell_type": "markdown",
   "metadata": {},
   "source": [
    "**Step 2. Preprocess the data as you see fit and show basic data visualization for better understanding of data**"
   ]
  },
  {
   "cell_type": "code",
   "execution_count": 37,
   "metadata": {},
   "outputs": [
    {
     "name": "stdout",
     "output_type": "stream",
     "text": [
      "Empty DataFrame\n",
      "Columns: [0, 1, 2, 3, 4, 5, 6, 7, 8]\n",
      "Index: []\n"
     ]
    }
   ],
   "source": [
    "# Check if the dataset has any missing data points\n",
    "df1 = df[df.isna().any(axis=1)]\n",
    "\n",
    "print(df1.head(5))"
   ]
  },
  {
   "cell_type": "code",
   "execution_count": 38,
   "metadata": {},
   "outputs": [],
   "source": [
    "def range_norm(ser):\n",
    "    hi = 1\n",
    "    low = 0\n",
    "    max_val = ser.max()\n",
    "    min_val = ser.min()\n",
    "\n",
    "    ser = ser.apply(lambda x: (x - min_val) / (max_val - min_val) * (hi - low) + low)\n",
    "\n",
    "    return ser"
   ]
  },
  {
   "cell_type": "code",
   "execution_count": 39,
   "metadata": {},
   "outputs": [
    {
     "name": "stdout",
     "output_type": "stream",
     "text": [
      "         0         1         2         3         4         5         6   \n",
      "0  0.31250  0.670968  0.489796  0.304348  0.491587  0.314928  0.232449  \\\n",
      "1  0.00000  0.264516  0.428571  0.239131  0.491587  0.171779  0.114298   \n",
      "2  0.43750  0.896774  0.408163  0.461957  0.491587  0.104295  0.251712   \n",
      "3  0.00000  0.290322  0.428571  0.173913  0.096154  0.202454  0.035531   \n",
      "4  0.46875  0.600000  0.163265  0.304348  0.185096  0.509203  0.943493   \n",
      "\n",
      "          7  8  \n",
      "0  0.474576  0  \n",
      "1  0.152542  1  \n",
      "2  0.169492  0  \n",
      "3  0.491526  1  \n",
      "4  0.186441  0  \n"
     ]
    }
   ],
   "source": [
    "for c in range(0, 8):\n",
    "    df[c] = range_norm(df[c])\n",
    "\n",
    "print(df.head(5))"
   ]
  },
  {
   "cell_type": "code",
   "execution_count": 40,
   "metadata": {},
   "outputs": [
    {
     "data": {
      "text/html": [
       "<div>\n",
       "<style scoped>\n",
       "    .dataframe tbody tr th:only-of-type {\n",
       "        vertical-align: middle;\n",
       "    }\n",
       "\n",
       "    .dataframe tbody tr th {\n",
       "        vertical-align: top;\n",
       "    }\n",
       "\n",
       "    .dataframe thead th {\n",
       "        text-align: right;\n",
       "    }\n",
       "</style>\n",
       "<table border=\"1\" class=\"dataframe\">\n",
       "  <thead>\n",
       "    <tr style=\"text-align: right;\">\n",
       "      <th></th>\n",
       "      <th>0</th>\n",
       "      <th>1</th>\n",
       "      <th>2</th>\n",
       "      <th>3</th>\n",
       "      <th>4</th>\n",
       "      <th>5</th>\n",
       "      <th>6</th>\n",
       "      <th>7</th>\n",
       "      <th>8</th>\n",
       "    </tr>\n",
       "  </thead>\n",
       "  <tbody>\n",
       "    <tr>\n",
       "      <th>count</th>\n",
       "      <td>759.000000</td>\n",
       "      <td>759.000000</td>\n",
       "      <td>759.000000</td>\n",
       "      <td>759.000000</td>\n",
       "      <td>759.000000</td>\n",
       "      <td>759.000000</td>\n",
       "      <td>759.000000</td>\n",
       "      <td>759.000000</td>\n",
       "      <td>759.000000</td>\n",
       "    </tr>\n",
       "    <tr>\n",
       "      <th>mean</th>\n",
       "      <td>0.252182</td>\n",
       "      <td>0.498368</td>\n",
       "      <td>0.487416</td>\n",
       "      <td>0.306066</td>\n",
       "      <td>0.327097</td>\n",
       "      <td>0.291783</td>\n",
       "      <td>0.166237</td>\n",
       "      <td>0.229070</td>\n",
       "      <td>0.653491</td>\n",
       "    </tr>\n",
       "    <tr>\n",
       "      <th>std</th>\n",
       "      <td>0.205201</td>\n",
       "      <td>0.196701</td>\n",
       "      <td>0.125291</td>\n",
       "      <td>0.139073</td>\n",
       "      <td>0.190932</td>\n",
       "      <td>0.140907</td>\n",
       "      <td>0.141891</td>\n",
       "      <td>0.203793</td>\n",
       "      <td>0.476171</td>\n",
       "    </tr>\n",
       "    <tr>\n",
       "      <th>min</th>\n",
       "      <td>0.000000</td>\n",
       "      <td>0.000000</td>\n",
       "      <td>0.000000</td>\n",
       "      <td>0.000000</td>\n",
       "      <td>0.000000</td>\n",
       "      <td>0.000000</td>\n",
       "      <td>0.000000</td>\n",
       "      <td>0.000000</td>\n",
       "      <td>0.000000</td>\n",
       "    </tr>\n",
       "    <tr>\n",
       "      <th>25%</th>\n",
       "      <td>0.062500</td>\n",
       "      <td>0.354839</td>\n",
       "      <td>0.387755</td>\n",
       "      <td>0.195653</td>\n",
       "      <td>0.127404</td>\n",
       "      <td>0.191207</td>\n",
       "      <td>0.068493</td>\n",
       "      <td>0.050847</td>\n",
       "      <td>0.000000</td>\n",
       "    </tr>\n",
       "    <tr>\n",
       "      <th>50%</th>\n",
       "      <td>0.187500</td>\n",
       "      <td>0.464516</td>\n",
       "      <td>0.489796</td>\n",
       "      <td>0.304348</td>\n",
       "      <td>0.491587</td>\n",
       "      <td>0.290389</td>\n",
       "      <td>0.124144</td>\n",
       "      <td>0.169492</td>\n",
       "      <td>1.000000</td>\n",
       "    </tr>\n",
       "    <tr>\n",
       "      <th>75%</th>\n",
       "      <td>0.468750</td>\n",
       "      <td>0.619355</td>\n",
       "      <td>0.571428</td>\n",
       "      <td>0.461957</td>\n",
       "      <td>0.491587</td>\n",
       "      <td>0.374233</td>\n",
       "      <td>0.232234</td>\n",
       "      <td>0.372882</td>\n",
       "      <td>1.000000</td>\n",
       "    </tr>\n",
       "    <tr>\n",
       "      <th>max</th>\n",
       "      <td>1.000000</td>\n",
       "      <td>1.000000</td>\n",
       "      <td>1.000000</td>\n",
       "      <td>1.000000</td>\n",
       "      <td>1.000000</td>\n",
       "      <td>1.000000</td>\n",
       "      <td>1.000000</td>\n",
       "      <td>1.000000</td>\n",
       "      <td>1.000000</td>\n",
       "    </tr>\n",
       "  </tbody>\n",
       "</table>\n",
       "</div>"
      ],
      "text/plain": [
       "                0           1           2           3           4           5   \n",
       "count  759.000000  759.000000  759.000000  759.000000  759.000000  759.000000  \\\n",
       "mean     0.252182    0.498368    0.487416    0.306066    0.327097    0.291783   \n",
       "std      0.205201    0.196701    0.125291    0.139073    0.190932    0.140907   \n",
       "min      0.000000    0.000000    0.000000    0.000000    0.000000    0.000000   \n",
       "25%      0.062500    0.354839    0.387755    0.195653    0.127404    0.191207   \n",
       "50%      0.187500    0.464516    0.489796    0.304348    0.491587    0.290389   \n",
       "75%      0.468750    0.619355    0.571428    0.461957    0.491587    0.374233   \n",
       "max      1.000000    1.000000    1.000000    1.000000    1.000000    1.000000   \n",
       "\n",
       "                6           7           8  \n",
       "count  759.000000  759.000000  759.000000  \n",
       "mean     0.166237    0.229070    0.653491  \n",
       "std      0.141891    0.203793    0.476171  \n",
       "min      0.000000    0.000000    0.000000  \n",
       "25%      0.068493    0.050847    0.000000  \n",
       "50%      0.124144    0.169492    1.000000  \n",
       "75%      0.232234    0.372882    1.000000  \n",
       "max      1.000000    1.000000    1.000000  "
      ]
     },
     "execution_count": 40,
     "metadata": {},
     "output_type": "execute_result"
    }
   ],
   "source": [
    "df.describe()"
   ]
  },
  {
   "cell_type": "code",
   "execution_count": 41,
   "metadata": {},
   "outputs": [],
   "source": [
    "# Import plot library for visualization\n",
    "import matplotlib.pyplot as plt"
   ]
  },
  {
   "cell_type": "code",
   "execution_count": 42,
   "metadata": {},
   "outputs": [
    {
     "data": {
      "image/png": "[encoded data removed]",
      "text/plain": [
       "<Figure size 640x480 with 1 Axes>"
      ]
     },
     "metadata": {},
     "output_type": "display_data"
    }
   ],
   "source": [
    "# Count how many classes there are in the dataset\n",
    "_, ax = plt.subplots()\n",
    "\n",
    "diabetes_class = ['0', '1']\n",
    "counts = [df.loc[df[8] == 0, 8].count(), df.loc[df[8] == 1, 8].count()]\n",
    "\n",
    "p = ax.bar(diabetes_class, counts, label=diabetes_class)\n",
    "ax.bar_label(p, label_type='center')\n",
    "\n",
    "ax.set_title('Classes count')\n",
    "ax.set_xlabel('Classes')\n",
    "plt.show()"
   ]
  },
  {
   "cell_type": "code",
   "execution_count": 74,
   "metadata": {},
   "outputs": [
    {
     "data": {
      "image/png": "[encoded data removed]",
      "text/plain": [
       "<Figure size 640x480 with 1 Axes>"
      ]
     },
     "metadata": {},
     "output_type": "display_data"
    }
   ],
   "source": [
    "# plt.figure(figsize=(10, 6))\n",
    "ax = plt.subplot(1, 1, 1)\n",
    "\n",
    "data = df.drop(columns=[8]).to_numpy()\n",
    "boxplot = ax.boxplot(data)\n",
    "\n",
    "ax.set_title('Five-number summary on descriptive features')\n",
    "ax.set_xlabel('Features')\n",
    "\n",
    "# Display the plot\n",
    "plt.tight_layout()\n",
    "plt.show()"
   ]
  },
  {
   "attachments": {},
   "cell_type": "markdown",
   "metadata": {},
   "source": [
    "**Step 3. Split into 80% train 20% test**"
   ]
  },
  {
   "cell_type": "code",
   "execution_count": 44,
   "metadata": {},
   "outputs": [
    {
     "name": "stdout",
     "output_type": "stream",
     "text": [
      "(607, 8)\n",
      "(607,)\n",
      "(152, 8)\n",
      "(152,)\n"
     ]
    }
   ],
   "source": [
    "from sklearn.model_selection import train_test_split\n",
    "\n",
    "X = df.drop(columns=[8])\n",
    "y = df.loc[:, 8]\n",
    "\n",
    "X_train, X_test, y_train, y_test = train_test_split(X, y, test_size=0.2, random_state=42)\n",
    "\n",
    "print(X_train.shape)\n",
    "print(y_train.shape)\n",
    "print(X_test.shape)\n",
    "print(y_test.shape)"
   ]
  },
  {
   "attachments": {},
   "cell_type": "markdown",
   "metadata": {},
   "source": [
    "**Step 4. Modify the model shown in the demo to take the new data**"
   ]
  },
  {
   "cell_type": "code",
   "execution_count": 45,
   "metadata": {},
   "outputs": [
    {
     "name": "stdout",
     "output_type": "stream",
     "text": [
      "------------------TensorFlow------------------\n",
      "Model: \"sequential_8\"\n",
      "_________________________________________________________________\n",
      " Layer (type)                Output Shape              Param #   \n",
      "=================================================================\n",
      " dense_10 (Dense)            (None, 1)                 9         \n",
      "                                                                 \n",
      "=================================================================\n",
      "Total params: 9\n",
      "Trainable params: 9\n",
      "Non-trainable params: 0\n",
      "_________________________________________________________________\n",
      "\n",
      "------------------PyTorch------------------\n",
      "Sequential(\n",
      "  (0): Linear(in_features=8, out_features=1, bias=True)\n",
      ")\n"
     ]
    }
   ],
   "source": [
    "# Tensorflow\n",
    "tf_model = tf.keras.Sequential([\n",
    "    tf.keras.layers.Dense(1, input_shape=[8,])\n",
    "    ])\n",
    "tf_loss = tf.keras.losses.MeanSquaredError()\n",
    "tf_model.compile(optimizer='SGD', loss=tf_loss, metrics=['mean_squared_error'])\n",
    "print(\"------------------TensorFlow------------------\")\n",
    "tf_model.summary()\n",
    "\n",
    "# pyTorch\n",
    "pt_model = nn.Sequential(nn.Linear(8,1))\n",
    "criterion = nn.MSELoss()\n",
    "optimizer = optim.SGD(pt_model.parameters(), lr=0.01)\n",
    "print()\n",
    "print(\"------------------PyTorch------------------\")\n",
    "print(pt_model)"
   ]
  },
  {
   "cell_type": "code",
   "execution_count": 46,
   "metadata": {},
   "outputs": [],
   "source": [
    "def pt_fit(model, inp, out, opti, crite, epoch, batch_size=None):\n",
    "  input_tensor = torch.from_numpy(inp.astype(np.float32))\n",
    "  output_tensor = torch.from_numpy(out.astype(np.float32))\n",
    "  for epoch in range(epoch):\n",
    "    permutation = torch.randperm(input_tensor.size()[0])\n",
    "    if batch_size:\n",
    "      for i in range(0, inp.shape[0], batch_size):\n",
    "        indices = permutation[i : i + batch_size]\n",
    "\n",
    "        pt_X = input_tensor[indices]\n",
    "        pt_y_true = output_tensor[indices]\n",
    "\n",
    "        opti.zero_grad()\n",
    "\n",
    "        pt_y_pred = model(pt_X)\n",
    "        loss = crite(pt_y_pred, pt_y_true)\n",
    "        loss.backward()\n",
    "        opti.step()\n",
    "    else:\n",
    "      pt_X = input_tensor[permutation]\n",
    "      pt_y_true = output_tensor[permutation]\n",
    "\n",
    "      opti.zero_grad()\n",
    "\n",
    "      pt_y_pred = model(pt_X)\n",
    "      loss = crite(pt_y_pred, pt_y_true)\n",
    "      loss.backward()\n",
    "      opti.step()\n",
    "\n",
    "    print(f'{epoch + 1} loss: {loss}')"
   ]
  },
  {
   "attachments": {},
   "cell_type": "markdown",
   "metadata": {},
   "source": [
    "**Step 5. Train the model on the data**"
   ]
  },
  {
   "cell_type": "code",
   "execution_count": 47,
   "metadata": {},
   "outputs": [
    {
     "name": "stdout",
     "output_type": "stream",
     "text": [
      "19/19 [==============================] - 0s 702us/step - loss: 0.3829 - mean_squared_error: 0.3829\n",
      "1 loss: 0.6667465567588806\n",
      "Finished Training\n"
     ]
    }
   ],
   "source": [
    "# Tensorflow\n",
    "tf_model.fit(X_train, y_train)\n",
    "\n",
    "# PyTorch\n",
    "inputs = X_train.to_numpy()\n",
    "outputs = y_train.to_numpy().reshape(-1, 1)\n",
    "pt_fit(pt_model, inputs, outputs, optimizer, criterion, 1)\n",
    "\n",
    "print('Finished Training')"
   ]
  },
  {
   "attachments": {},
   "cell_type": "markdown",
   "metadata": {},
   "source": [
    "**Step 6. Make predictions on the test data and compare them to the test labels**"
   ]
  },
  {
   "cell_type": "code",
   "execution_count": 48,
   "metadata": {},
   "outputs": [
    {
     "name": "stdout",
     "output_type": "stream",
     "text": [
      "TensorFlow prediction\n",
      "5/5 [==============================] - 0s 874us/step\n",
      "   Actual  Prediction\n",
      "0       1           0\n",
      "1       0           1\n",
      "2       0           0\n",
      "3       1           1\n",
      "4       0           0\n",
      "5       1           1\n",
      "6       1           0\n",
      "7       1           0\n",
      "8       1           0\n",
      "9       1           0\n",
      "-----------------------------------------------\n",
      "PyTorch prediction\n",
      "   Actual  Prediction\n",
      "0       1           0\n",
      "1       0           0\n",
      "2       0           0\n",
      "3       1           0\n",
      "4       0           0\n",
      "5       1           0\n",
      "6       1           0\n",
      "7       1           0\n",
      "8       1           0\n",
      "9       1           0\n"
     ]
    }
   ],
   "source": [
    "# TensorFlow\n",
    "print(\"TensorFlow prediction\")\n",
    "tf_predict = tf_model.predict(X_test)\n",
    "tf_predict = (tf_predict > 0.5).astype(int)\n",
    "tf_predict = [p[0] for p in tf_predict]\n",
    "tf_compare = pd.DataFrame({'Actual': y_test.tolist(), 'Prediction': tf_predict})\n",
    "print(tf_compare.head(10))\n",
    "print(\"-----------------------------------------------\")\n",
    "\n",
    "# PyTorch\n",
    "print(\"PyTorch prediction\")\n",
    "pt_inputs = X_test.to_numpy()\n",
    "pt_input_tensor = torch.from_numpy(pt_inputs.astype(np.float32))\n",
    "pt_predict = pt_model(pt_input_tensor)\n",
    "pt_predict = pt_predict.detach().numpy()\n",
    "pt_predict = (pt_predict > 0.5).astype(int)\n",
    "pt_predict = [p[0] for p in pt_predict]\n",
    "pt_compare = pd.DataFrame({'Actual': y_test.tolist(), 'Prediction': pt_predict})\n",
    "print(pt_compare.head(10))"
   ]
  },
  {
   "attachments": {},
   "cell_type": "markdown",
   "metadata": {},
   "source": [
    "**Step 7. Calculate the accuracy of your results**"
   ]
  },
  {
   "cell_type": "code",
   "execution_count": 49,
   "metadata": {},
   "outputs": [
    {
     "name": "stdout",
     "output_type": "stream",
     "text": [
      "Tensorflow accuracy\n",
      "0.34868421052631576\n",
      "\n",
      "PyTorch accuracy\n",
      "0.3092105263157895\n"
     ]
    }
   ],
   "source": [
    "from sklearn.metrics import accuracy_score\n",
    "print(\"Tensorflow accuracy\")\n",
    "print(accuracy_score(y_test, tf_predict))\n",
    "\n",
    "print()\n",
    "print(\"PyTorch accuracy\")\n",
    "print(accuracy_score(y_test, pt_predict))\n"
   ]
  },
  {
   "attachments": {},
   "cell_type": "markdown",
   "metadata": {},
   "source": [
    "**Step 8. Hypothesize changes you can make to the model. Type out your hypothesis as comments in the code or in a text cell. (ex. doubling the width/depth of your NN, experiment thoroughly)**"
   ]
  },
  {
   "attachments": {},
   "cell_type": "markdown",
   "metadata": {},
   "source": [
    "1. Add 2 extra layers and increase the neurons to 32\n",
    "* The extra layers and neruons are most likely to increase the accuracy\n",
    "2. Increase the epoch number to 3\n",
    "* It can result with higher accuracy but could lead to overfitting because the model will be trained with the same data multiple times\n",
    "3. Set batch size to 10 and 2 epoch\n",
    "* This could lead to a higher accuracy because using batch size force the model to go through the dataset a piece at a time. Consequently, the model will be trained with multiple samples iteratively. In addition, giving a slightly larger epoch allow the model to be trained with a little more combination of data.\n",
    "4. Use the activation functions rectified linear unit and sigmoid\n",
    "* Using an activation function allow the model to decide whether a neuron needs to be activated. Sigmoid should do better since it returns a value between 0 to 1 while the ReLu returns 0 or above depending on the values.\n",
    "5. Change the optimizer from SGD to Adam\n",
    "* Adam optimizer has an adaptive learning rate that changes based on historical gradient magnitudes. It will give better rate of convergences and probably higher accuracy.\n",
    "6. Change the loss function to binary cross-entropy\n",
    "* The loss function calculates how much the prediction is different from the actual result. BCE handles binary classification better than MSE and thus should give a better accuracy."
   ]
  },
  {
   "attachments": {},
   "cell_type": "markdown",
   "metadata": {},
   "source": [
    "**Step 9. Test your hypothesis by training your new models**"
   ]
  },
  {
   "cell_type": "markdown",
   "metadata": {},
   "source": [
    "    1. Add 2 extra layers and increase the neurons to 32"
   ]
  },
  {
   "cell_type": "code",
   "execution_count": 50,
   "metadata": {},
   "outputs": [],
   "source": [
    "# Tensorflow\n",
    "tf_model = tf.keras.Sequential([\n",
    "    tf.keras.layers.Dense(32, input_shape=[8,]),\n",
    "    tf.keras.layers.Dense(32),\n",
    "    tf.keras.layers.Dense(1)\n",
    "    ])\n",
    "tf_model.compile(optimizer='SGD', loss=tf_loss, metrics=['mean_squared_error'])\n",
    "\n",
    "# pyTorch\n",
    "pt_model = nn.Sequential(\n",
    "    nn.Linear(8, 32),\n",
    "    nn.Linear(32, 32),\n",
    "    nn.Linear(32, 1),\n",
    ")"
   ]
  },
  {
   "cell_type": "code",
   "execution_count": 51,
   "metadata": {},
   "outputs": [
    {
     "name": "stdout",
     "output_type": "stream",
     "text": [
      "19/19 [==============================] - 0s 643us/step - loss: 0.3874 - mean_squared_error: 0.3874\n",
      "5/5 [==============================] - 0s 900us/step\n",
      "   Actual  Prediction\n",
      "0       1           0\n",
      "1       0           1\n",
      "2       0           0\n",
      "3       1           1\n",
      "4       0           1\n",
      "5       1           1\n",
      "6       1           1\n",
      "7       1           1\n",
      "8       1           1\n",
      "9       1           1\n",
      "Tensorflow accuracy\n",
      "0.5263157894736842\n",
      "\n",
      "----------------------------------------------------------\n",
      "\n",
      "1 loss: 0.5678163170814514\n",
      "   Actual  Prediction\n",
      "0       1           0\n",
      "1       0           0\n",
      "2       0           0\n",
      "3       1           0\n",
      "4       0           0\n",
      "5       1           0\n",
      "6       1           0\n",
      "7       1           0\n",
      "8       1           0\n",
      "9       1           0\n",
      "PyTorch accuracy\n",
      "0.3092105263157895\n"
     ]
    }
   ],
   "source": [
    "# Tensorflow\n",
    "tf_model.fit(X_train, y_train)\n",
    "tf_predict = tf_model.predict(X_test)\n",
    "tf_predict = (tf_predict > 0.5).astype(int)\n",
    "tf_predict = [p[0] for p in tf_predict]\n",
    "tf_compare = pd.DataFrame({'Actual': y_test.tolist(), 'Prediction': tf_predict})\n",
    "print(tf_compare.head(10))\n",
    "print(\"Tensorflow accuracy\")\n",
    "print(accuracy_score(y_test, tf_predict))\n",
    "print(\"\\n----------------------------------------------------------\\n\")\n",
    "\n",
    "# PyTorch\n",
    "pt_fit(pt_model, inputs, outputs, optimizer, criterion, 1)\n",
    "pt_predict = pt_model(pt_input_tensor)\n",
    "pt_predict = pt_predict.detach().numpy()\n",
    "pt_predict = (pt_predict > 0.5).astype(int)\n",
    "pt_predict = [p[0] for p in pt_predict]\n",
    "pt_compare = pd.DataFrame({'Actual': y_test.tolist(), 'Prediction': pt_predict})\n",
    "print(pt_compare.head(10))\n",
    "print(\"PyTorch accuracy\")\n",
    "print(accuracy_score(y_test, pt_predict))"
   ]
  },
  {
   "cell_type": "markdown",
   "metadata": {},
   "source": [
    "    2. Increase the epoch number to 3"
   ]
  },
  {
   "cell_type": "code",
   "execution_count": 75,
   "metadata": {},
   "outputs": [],
   "source": [
    "# Tensorflow\n",
    "tf_model = tf.keras.Sequential([\n",
    "    tf.keras.layers.Dense(1, input_shape=[8,]),\n",
    "    ])\n",
    "tf_model.compile(optimizer='SGD', loss=tf_loss, metrics=['mean_squared_error'])\n",
    "\n",
    "# pyTorch\n",
    "pt_model = nn.Sequential(\n",
    "    nn.Linear(8, 1),\n",
    ")"
   ]
  },
  {
   "cell_type": "code",
   "execution_count": 76,
   "metadata": {},
   "outputs": [
    {
     "name": "stdout",
     "output_type": "stream",
     "text": [
      "Epoch 1/3\n",
      "19/19 [==============================] - 0s 697us/step - loss: 6.0603 - mean_squared_error: 0.8958\n",
      "Epoch 2/3\n",
      "19/19 [==============================] - 0s 646us/step - loss: 5.4264 - mean_squared_error: 2.6417\n",
      "Epoch 3/3\n",
      "19/19 [==============================] - 0s 811us/step - loss: 5.4264 - mean_squared_error: 2.6417\n",
      "5/5 [==============================] - 0s 826us/step\n",
      "   Actual  Prediction\n",
      "0       1           1\n",
      "1       0           1\n",
      "2       0           1\n",
      "3       1           1\n",
      "4       0           1\n",
      "5       1           1\n",
      "6       1           1\n",
      "7       1           1\n",
      "8       1           1\n",
      "9       1           1\n",
      "Tensorflow accuracy\n",
      "0.6907894736842105\n",
      "\n",
      "----------------------------------------------------------\n",
      "\n",
      "1 loss: 0.33699607849121094\n",
      "2 loss: 0.3369961082935333\n",
      "3 loss: 0.3369961082935333\n",
      "   Actual  Prediction\n",
      "0       1           0\n",
      "1       0           0\n",
      "2       0           0\n",
      "3       1           1\n",
      "4       0           0\n",
      "5       1           0\n",
      "6       1           0\n",
      "7       1           0\n",
      "8       1           0\n",
      "9       1           0\n",
      "PyTorch accuracy\n",
      "0.2894736842105263\n"
     ]
    }
   ],
   "source": [
    "# Tensorflow\n",
    "tf_model.fit(X_train, y_train, epochs=3)\n",
    "tf_predict = tf_model.predict(X_test)\n",
    "tf_predict = (tf_predict > 0.5).astype(int)\n",
    "tf_predict = [p[0] for p in tf_predict]\n",
    "tf_compare = pd.DataFrame({'Actual': y_test.tolist(), 'Prediction': tf_predict})\n",
    "print(tf_compare.head(10))\n",
    "print(\"Tensorflow accuracy\")\n",
    "print(accuracy_score(y_test, tf_predict))\n",
    "print(\"\\n----------------------------------------------------------\\n\")\n",
    "\n",
    "# PyTorch\n",
    "pt_fit(pt_model, inputs, outputs, optimizer, criterion, 3)\n",
    "pt_predict = pt_model(pt_input_tensor)\n",
    "pt_predict = pt_predict.detach().numpy()\n",
    "pt_predict = (pt_predict > 0.5).astype(int)\n",
    "pt_predict = [p[0] for p in pt_predict]\n",
    "pt_compare = pd.DataFrame({'Actual': y_test.tolist(), 'Prediction': pt_predict})\n",
    "print(pt_compare.head(10))\n",
    "print(\"PyTorch accuracy\")\n",
    "print(accuracy_score(y_test, pt_predict))"
   ]
  },
  {
   "cell_type": "markdown",
   "metadata": {},
   "source": [
    "    3. Set batch size to 10 and 2 epoch"
   ]
  },
  {
   "cell_type": "code",
   "execution_count": 77,
   "metadata": {},
   "outputs": [],
   "source": [
    "# Tensorflow\n",
    "tf_model = tf.keras.Sequential([\n",
    "    tf.keras.layers.Dense(1, input_shape=[8,])\n",
    "    ])\n",
    "tf_model.compile(optimizer='SGD', loss=tf_loss, metrics=['mean_squared_error'])\n",
    "\n",
    "# pyTorch\n",
    "pt_model = nn.Sequential(\n",
    "    nn.Linear(8, 1),\n",
    ")"
   ]
  },
  {
   "cell_type": "code",
   "execution_count": 78,
   "metadata": {},
   "outputs": [
    {
     "name": "stdout",
     "output_type": "stream",
     "text": [
      "Epoch 1/2\n",
      "61/61 [==============================] - 0s 641us/step - loss: 4.5867 - mean_squared_error: 0.6273\n",
      "Epoch 2/2\n",
      "61/61 [==============================] - 0s 602us/step - loss: 0.8332 - mean_squared_error: 0.2718\n",
      "5/5 [==============================] - 0s 1ms/step\n",
      "   Actual  Prediction\n",
      "0       1           0\n",
      "1       0           1\n",
      "2       0           1\n",
      "3       1           1\n",
      "4       0           1\n",
      "5       1           0\n",
      "6       1           0\n",
      "7       1           1\n",
      "8       1           1\n",
      "9       1           0\n",
      "Tensorflow accuracy\n",
      "0.48026315789473684\n",
      "\n",
      "----------------------------------------------------------\n",
      "\n",
      "1 loss: 0.6316211819648743\n",
      "   Actual  Prediction\n",
      "0       1           0\n",
      "1       0           0\n",
      "2       0           0\n",
      "3       1           0\n",
      "4       0           0\n",
      "5       1           0\n",
      "6       1           0\n",
      "7       1           0\n",
      "8       1           0\n",
      "9       1           0\n",
      "PyTorch accuracy\n",
      "0.3092105263157895\n"
     ]
    }
   ],
   "source": [
    "# Tensorflow\n",
    "tf_model.fit(X_train, y_train, epochs=2, batch_size=10)\n",
    "tf_predict = tf_model.predict(X_test)\n",
    "tf_predict = (tf_predict > 0.5).astype(int)\n",
    "tf_predict = [p[0] for p in tf_predict]\n",
    "tf_compare = pd.DataFrame({'Actual': y_test.tolist(), 'Prediction': tf_predict})\n",
    "print(tf_compare.head(10))\n",
    "print(\"Tensorflow accuracy\")\n",
    "print(accuracy_score(y_test, tf_predict))\n",
    "print(\"\\n----------------------------------------------------------\\n\")\n",
    "\n",
    "# PyTorch\n",
    "pt_fit(pt_model, inputs, outputs, optimizer, criterion, 1)\n",
    "pt_predict = pt_model(pt_input_tensor)\n",
    "pt_predict = pt_predict.detach().numpy()\n",
    "pt_predict = (pt_predict > 0.5).astype(int)\n",
    "pt_predict = [p[0] for p in pt_predict]\n",
    "pt_compare = pd.DataFrame({'Actual': y_test.tolist(), 'Prediction': pt_predict})\n",
    "print(pt_compare.head(10))\n",
    "print(\"PyTorch accuracy\")\n",
    "print(accuracy_score(y_test, pt_predict))"
   ]
  },
  {
   "cell_type": "markdown",
   "metadata": {},
   "source": [
    "    4. Use the activation functions rectified linear unit and sigmoid"
   ]
  },
  {
   "cell_type": "code",
   "execution_count": 56,
   "metadata": {},
   "outputs": [],
   "source": [
    "# ReLu\n",
    "# Tensorflow\n",
    "tf_model = tf.keras.Sequential([\n",
    "    tf.keras.layers.Dense(1, 'relu', input_shape=[8,])\n",
    "    ])\n",
    "tf_model.compile(optimizer='SGD', loss=tf_loss, metrics=['mean_squared_error'])\n",
    "\n",
    "# pyTorch\n",
    "pt_model = nn.Sequential(\n",
    "    nn.Linear(8, 1),\n",
    "    nn.ReLU()\n",
    ")"
   ]
  },
  {
   "cell_type": "code",
   "execution_count": 57,
   "metadata": {},
   "outputs": [
    {
     "name": "stdout",
     "output_type": "stream",
     "text": [
      "19/19 [==============================] - 0s 643us/step - loss: 0.5931 - mean_squared_error: 0.5931\n",
      "5/5 [==============================] - 0s 628us/step\n",
      "   Actual  Prediction\n",
      "0       1           0\n",
      "1       0           0\n",
      "2       0           0\n",
      "3       1           0\n",
      "4       0           0\n",
      "5       1           0\n",
      "6       1           0\n",
      "7       1           0\n",
      "8       1           0\n",
      "9       1           0\n",
      "Tensorflow accuracy\n",
      "0.3157894736842105\n",
      "\n",
      "----------------------------------------------------------\n",
      "\n",
      "1 loss: 0.6440924406051636\n",
      "   Actual  Prediction\n",
      "0       1           0\n",
      "1       0           0\n",
      "2       0           0\n",
      "3       1           0\n",
      "4       0           0\n",
      "5       1           0\n",
      "6       1           0\n",
      "7       1           0\n",
      "8       1           0\n",
      "9       1           0\n",
      "PyTorch accuracy\n",
      "0.3092105263157895\n"
     ]
    }
   ],
   "source": [
    "# Tensorflow\n",
    "tf_model.fit(X_train, y_train)\n",
    "tf_predict = tf_model.predict(X_test)\n",
    "tf_predict = (tf_predict > 0.5).astype(int)\n",
    "tf_predict = [p[0] for p in tf_predict]\n",
    "tf_compare = pd.DataFrame({'Actual': y_test.tolist(), 'Prediction': tf_predict})\n",
    "print(tf_compare.head(10))\n",
    "print(\"Tensorflow accuracy\")\n",
    "print(accuracy_score(y_test, tf_predict))\n",
    "print(\"\\n----------------------------------------------------------\\n\")\n",
    "\n",
    "# PyTorch\n",
    "pt_fit(pt_model, inputs, outputs, optimizer, criterion, 1)\n",
    "pt_predict = pt_model(pt_input_tensor)\n",
    "pt_predict = pt_predict.detach().numpy()\n",
    "pt_predict = (pt_predict > 0.5).astype(int)\n",
    "pt_predict = [p[0] for p in pt_predict]\n",
    "pt_compare = pd.DataFrame({'Actual': y_test.tolist(), 'Prediction': pt_predict})\n",
    "print(pt_compare.head(10))\n",
    "print(\"PyTorch accuracy\")\n",
    "print(accuracy_score(y_test, pt_predict))"
   ]
  },
  {
   "cell_type": "code",
   "execution_count": 58,
   "metadata": {},
   "outputs": [],
   "source": [
    "# Sigmoid\n",
    "# Tensorflow\n",
    "tf_model = tf.keras.Sequential([\n",
    "    tf.keras.layers.Dense(1, 'sigmoid', input_shape=[8,])\n",
    "    ])\n",
    "tf_model.compile(optimizer='SGD', loss=tf_loss, metrics=['mean_squared_error'])\n",
    "\n",
    "# pyTorch\n",
    "pt_model = nn.Sequential(\n",
    "    nn.Linear(8, 1),\n",
    "    nn.Sigmoid()\n",
    ")"
   ]
  },
  {
   "cell_type": "code",
   "execution_count": 59,
   "metadata": {},
   "outputs": [
    {
     "name": "stdout",
     "output_type": "stream",
     "text": [
      "19/19 [==============================] - 0s 662us/step - loss: 0.2577 - mean_squared_error: 0.2577\n",
      "5/5 [==============================] - 0s 675us/step\n",
      "   Actual  Prediction\n",
      "0       1           0\n",
      "1       0           0\n",
      "2       0           1\n",
      "3       1           0\n",
      "4       0           0\n",
      "5       1           0\n",
      "6       1           0\n",
      "7       1           1\n",
      "8       1           0\n",
      "9       1           0\n",
      "Tensorflow accuracy\n",
      "0.4144736842105263\n",
      "\n",
      "----------------------------------------------------------\n",
      "\n",
      "1 loss: 0.23463022708892822\n",
      "   Actual  Prediction\n",
      "0       1           1\n",
      "1       0           1\n",
      "2       0           1\n",
      "3       1           1\n",
      "4       0           1\n",
      "5       1           1\n",
      "6       1           1\n",
      "7       1           1\n",
      "8       1           1\n",
      "9       1           1\n",
      "PyTorch accuracy\n",
      "0.6907894736842105\n"
     ]
    }
   ],
   "source": [
    "# Tensorflow\n",
    "tf_model.fit(X_train, y_train)\n",
    "tf_predict = tf_model.predict(X_test)\n",
    "tf_predict = (tf_predict > 0.5).astype(int)\n",
    "tf_predict = [p[0] for p in tf_predict]\n",
    "tf_compare = pd.DataFrame({'Actual': y_test.tolist(), 'Prediction': tf_predict})\n",
    "print(tf_compare.head(10))\n",
    "print(\"Tensorflow accuracy\")\n",
    "print(accuracy_score(y_test, tf_predict))\n",
    "print(\"\\n----------------------------------------------------------\\n\")\n",
    "\n",
    "# PyTorch\n",
    "pt_fit(pt_model, inputs, outputs, optimizer, criterion, 1)\n",
    "pt_predict = pt_model(pt_input_tensor)\n",
    "pt_predict = pt_predict.detach().numpy()\n",
    "pt_predict = (pt_predict > 0.5).astype(int)\n",
    "pt_predict = [p[0] for p in pt_predict]\n",
    "pt_compare = pd.DataFrame({'Actual': y_test.tolist(), 'Prediction': pt_predict})\n",
    "print(pt_compare.head(10))\n",
    "print(\"PyTorch accuracy\")\n",
    "print(accuracy_score(y_test, pt_predict))"
   ]
  },
  {
   "cell_type": "markdown",
   "metadata": {},
   "source": [
    "    5. Change the optimizer from SGD to Adam"
   ]
  },
  {
   "cell_type": "code",
   "execution_count": 60,
   "metadata": {},
   "outputs": [],
   "source": [
    "# Tensorflow\n",
    "tf_model = tf.keras.Sequential([\n",
    "    tf.keras.layers.Dense(1, input_shape=[8,]),\n",
    "    ])\n",
    "tf_model.compile(optimizer='Adam', loss=tf_loss, metrics=['mean_squared_error'])\n",
    "\n",
    "# pyTorch\n",
    "pt_model = nn.Sequential(\n",
    "    nn.Linear(8, 32),\n",
    "    nn.Linear(32, 32),\n",
    "    nn.Linear(32, 1),\n",
    ")"
   ]
  },
  {
   "cell_type": "code",
   "execution_count": 61,
   "metadata": {},
   "outputs": [
    {
     "name": "stdout",
     "output_type": "stream",
     "text": [
      "19/19 [==============================] - 0s 563us/step - loss: 0.3979 - mean_squared_error: 0.3979\n",
      "5/5 [==============================] - 0s 878us/step\n",
      "   Actual  Prediction\n",
      "0       1           0\n",
      "1       0           0\n",
      "2       0           0\n",
      "3       1           1\n",
      "4       0           0\n",
      "5       1           0\n",
      "6       1           0\n",
      "7       1           0\n",
      "8       1           0\n",
      "9       1           0\n",
      "Tensorflow accuracy\n",
      "0.27631578947368424\n",
      "\n",
      "----------------------------------------------------------\n",
      "\n",
      "1 loss: 0.5117175579071045\n",
      "   Actual  Prediction\n",
      "0       1           0\n",
      "1       0           0\n",
      "2       0           0\n",
      "3       1           0\n",
      "4       0           0\n",
      "5       1           0\n",
      "6       1           0\n",
      "7       1           0\n",
      "8       1           0\n",
      "9       1           0\n",
      "PyTorch accuracy\n",
      "0.3092105263157895\n"
     ]
    }
   ],
   "source": [
    "# Tensorflow\n",
    "tf_model.fit(X_train, y_train)\n",
    "tf_predict = tf_model.predict(X_test)\n",
    "tf_predict = (tf_predict > 0.5).astype(int)\n",
    "tf_predict = [p[0] for p in tf_predict]\n",
    "tf_compare = pd.DataFrame({'Actual': y_test.tolist(), 'Prediction': tf_predict})\n",
    "print(tf_compare.head(10))\n",
    "print(\"Tensorflow accuracy\")\n",
    "print(accuracy_score(y_test, tf_predict))\n",
    "print(\"\\n----------------------------------------------------------\\n\")\n",
    "\n",
    "# PyTorch\n",
    "pt_fit(pt_model, inputs, outputs, optim.Adam(pt_model.parameters()), criterion, 1)\n",
    "pt_inputs = X_test.to_numpy()\n",
    "pt_predict = pt_model(pt_input_tensor)\n",
    "pt_predict = pt_predict.detach().numpy()\n",
    "pt_predict = (pt_predict > 0.5).astype(int)\n",
    "pt_predict = [p[0] for p in pt_predict]\n",
    "pt_compare = pd.DataFrame({'Actual': y_test.tolist(), 'Prediction': pt_predict})\n",
    "print(pt_compare.head(10))\n",
    "print(\"PyTorch accuracy\")\n",
    "print(accuracy_score(y_test, pt_predict))"
   ]
  },
  {
   "cell_type": "markdown",
   "metadata": {},
   "source": [
    "    6. Change the loss function to binary cross-entropy"
   ]
  },
  {
   "cell_type": "code",
   "execution_count": 70,
   "metadata": {},
   "outputs": [],
   "source": [
    "# Tensorflow\n",
    "tf_model = tf.keras.Sequential([\n",
    "    tf.keras.layers.Dense(1, input_shape=[8,]),\n",
    "    ])\n",
    "tf_loss = tf.keras.losses.BinaryCrossentropy()\n",
    "tf_model.compile(optimizer='SGD', loss=tf_loss, metrics=['binary_crossentropy'])\n",
    "\n",
    "# pyTorch\n",
    "pt_model = nn.Sequential(\n",
    "    nn.Linear(8, 1),\n",
    ")"
   ]
  },
  {
   "cell_type": "code",
   "execution_count": 71,
   "metadata": {},
   "outputs": [
    {
     "name": "stdout",
     "output_type": "stream",
     "text": [
      "19/19 [==============================] - 0s 696us/step - loss: 0.9543 - binary_crossentropy: 0.9543\n",
      "5/5 [==============================] - 0s 614us/step\n",
      "   Actual  Prediction\n",
      "0       1           1\n",
      "1       0           0\n",
      "2       0           1\n",
      "3       1           1\n",
      "4       0           1\n",
      "5       1           1\n",
      "6       1           1\n",
      "7       1           1\n",
      "8       1           1\n",
      "9       1           0\n",
      "Tensorflow accuracy\n",
      "0.47368421052631576\n",
      "\n",
      "----------------------------------------------------------\n",
      "\n",
      "1 loss: 1.0409553050994873\n",
      "   Actual  Prediction\n",
      "0       1           0\n",
      "1       0           0\n",
      "2       0           0\n",
      "3       1           0\n",
      "4       0           0\n",
      "5       1           0\n",
      "6       1           0\n",
      "7       1           0\n",
      "8       1           0\n",
      "9       1           0\n",
      "PyTorch accuracy\n",
      "0.3092105263157895\n"
     ]
    }
   ],
   "source": [
    "# Tensorflow\n",
    "tf_model.fit(X_train, y_train)\n",
    "tf_predict = tf_model.predict(X_test)\n",
    "tf_predict = (tf_predict > 0.5).astype(int)\n",
    "tf_predict = [p[0] for p in tf_predict]\n",
    "tf_compare = pd.DataFrame({'Actual': y_test.tolist(), 'Prediction': tf_predict})\n",
    "print(tf_compare.head(10))\n",
    "print(\"Tensorflow accuracy\")\n",
    "print(accuracy_score(y_test, tf_predict))\n",
    "print(\"\\n----------------------------------------------------------\\n\")\n",
    "\n",
    "# PyTorch\n",
    "pt_fit(pt_model, inputs, outputs, optimizer, nn.BCELoss(), 1)\n",
    "pt_inputs = X_test.to_numpy()\n",
    "pt_input_tensor = torch.from_numpy(pt_inputs.astype(np.float32))\n",
    "pt_predict = pt_model(pt_input_tensor)\n",
    "pt_predict = pt_predict.detach().numpy()\n",
    "pt_predict = (pt_predict > 0.5).astype(int)\n",
    "pt_predict = [p[0] for p in pt_predict]\n",
    "pt_compare = pd.DataFrame({'Actual': y_test.tolist(), 'Prediction': pt_predict})\n",
    "print(pt_compare.head(10))\n",
    "print(\"PyTorch accuracy\")\n",
    "print(accuracy_score(y_test, pt_predict))"
   ]
  },
  {
   "cell_type": "markdown",
   "metadata": {},
   "source": [
    "**Step 10. Show the results of your changed models by repeating steps 6 and 7. Discuss the differences and explain why.**"
   ]
  },
  {
   "cell_type": "markdown",
   "metadata": {},
   "source": [
    "1. The result confirmed the hypothesis for TensorFlow where the accuracy increased. However, the accuracy on the PyTorch model decreased. I suspect it might have to do with the permutation of the dataset is changed everytime.\n",
    "\n",
    "2. Increasing epoch slightly increased the accuracy for the TensorFlow model and decreased the accuracy for the PyTorch model. Since it is a small dataset, training it with multiple epoch is prone to overfitting and the PyTorch model confirmed the hypothesis. For the TensorFlow, it proves the other side of the hypothesis, where the performance is improved.\n",
    "\n",
    "3. The TensorFlow's model confirmed the hypothesis where the accuracy increased. However, the PyTorch's model accuracy is once agained dropped. It could be yet another overfitting issue due to higher epoch. Also, although the dataset is splitted into batches, after all it is still the same data and it is a small set for a neural network. Consequently, it might be the reason why the performance dropped.\n",
    "\n",
    "4. The hypothesis is confirmed where Sigmoid improves the performance on both models while ReLu dropped the peformances.\n",
    "\n",
    "5. Changing the optimizer to adam seems not effective in both TensorFlow and PyTorch models. With adaptive learning rate for each parameter, the hypothesis assumed adam would outperform SGD. Nonetheless, in a small dataset where data points fluctuate only a little, the traditional SGD seems like a better choice than adam.\n",
    "\n",
    "6. Both models disapprove that binary cross-entropy can improve the performance than mean squared error. This is unexpected because compared to MSE, BCE is said to be a better loss function for binary classification. In this case, the performance drop can be attributed to lack of layers and also no activation function for the loss function to be applicable.\n",
    "\n",
    "In conclusion, since most of the variations of the models are only 1 layer, the performance of them on a multiple features classification is expected to be poor. The PyTorch performance is bad overall and it could be because of the random permutation in the py_fit function. Since it is modified from the class demo, the randperm function is left there for the batch size. Assuming PyTorch and TensorFlow should have the same peformances when they have the same configurations, the only differences they have in this notebook is the random permutation. In addition, when dealing with the BCE loss function, often time the model returns an error during training, saying that the prediction made during training isn't between 0 and 1. This will require more investigation on why the model prediction were not in range."
   ]
  }
 ],
 "metadata": {
  "kernelspec": {
   "display_name": "Python 3",
   "language": "python",
   "name": "python3"
  },
  "language_info": {
   "codemirror_mode": {
    "name": "ipython",
    "version": 3
   },
   "file_extension": ".py",
   "mimetype": "text/x-python",
   "name": "python",
   "nbconvert_exporter": "python",
   "pygments_lexer": "ipython3",
   "version": "3.10.11"
  },
  "orig_nbformat": 4
 },
 "nbformat": 4,
 "nbformat_minor": 2
}
